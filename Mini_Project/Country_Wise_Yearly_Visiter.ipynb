{
 "cells": [
  {
   "cell_type": "code",
   "execution_count": 1,
   "metadata": {},
   "outputs": [],
   "source": [
    "import pandas as pd\n",
    "import numpy as np\n",
    "import matplotlib.pyplot as plt"
   ]
  },
  {
   "cell_type": "code",
   "execution_count": 2,
   "metadata": {},
   "outputs": [],
   "source": [
    "df = pd.read_csv('Data/Country Wise Yearly VIsitors.csv')"
   ]
  },
  {
   "cell_type": "code",
   "execution_count": 5,
   "metadata": {},
   "outputs": [
    {
     "data": {
      "text/html": [
       "<div>\n",
       "<style scoped>\n",
       "    .dataframe tbody tr th:only-of-type {\n",
       "        vertical-align: middle;\n",
       "    }\n",
       "\n",
       "    .dataframe tbody tr th {\n",
       "        vertical-align: top;\n",
       "    }\n",
       "\n",
       "    .dataframe thead th {\n",
       "        text-align: right;\n",
       "    }\n",
       "</style>\n",
       "<table border=\"1\" class=\"dataframe\">\n",
       "  <thead>\n",
       "    <tr style=\"text-align: right;\">\n",
       "      <th></th>\n",
       "      <th>Country</th>\n",
       "      <th>2014</th>\n",
       "      <th>2015</th>\n",
       "      <th>2016</th>\n",
       "      <th>2017</th>\n",
       "      <th>2018</th>\n",
       "      <th>2019</th>\n",
       "      <th>2020</th>\n",
       "    </tr>\n",
       "  </thead>\n",
       "  <tbody>\n",
       "    <tr>\n",
       "      <th>0</th>\n",
       "      <td>Canada</td>\n",
       "      <td>268485</td>\n",
       "      <td>281306</td>\n",
       "      <td>317239</td>\n",
       "      <td>335439</td>\n",
       "      <td>351040</td>\n",
       "      <td>351859</td>\n",
       "      <td>122868</td>\n",
       "    </tr>\n",
       "    <tr>\n",
       "      <th>1</th>\n",
       "      <td>U.S.A</td>\n",
       "      <td>1118983</td>\n",
       "      <td>1213624</td>\n",
       "      <td>1296939</td>\n",
       "      <td>1376919</td>\n",
       "      <td>1456678</td>\n",
       "      <td>1512032</td>\n",
       "      <td>394092</td>\n",
       "    </tr>\n",
       "    <tr>\n",
       "      <th>2</th>\n",
       "      <td>Argentina</td>\n",
       "      <td>9731</td>\n",
       "      <td>9351</td>\n",
       "      <td>12308</td>\n",
       "      <td>14875</td>\n",
       "      <td>16345</td>\n",
       "      <td>12844</td>\n",
       "      <td>4294</td>\n",
       "    </tr>\n",
       "    <tr>\n",
       "      <th>3</th>\n",
       "      <td>Brazil</td>\n",
       "      <td>19563</td>\n",
       "      <td>20610</td>\n",
       "      <td>21289</td>\n",
       "      <td>24453</td>\n",
       "      <td>26579</td>\n",
       "      <td>25422</td>\n",
       "      <td>8092</td>\n",
       "    </tr>\n",
       "    <tr>\n",
       "      <th>4</th>\n",
       "      <td>Mexico</td>\n",
       "      <td>13978</td>\n",
       "      <td>14049</td>\n",
       "      <td>15689</td>\n",
       "      <td>18114</td>\n",
       "      <td>19909</td>\n",
       "      <td>20766</td>\n",
       "      <td>4580</td>\n",
       "    </tr>\n",
       "    <tr>\n",
       "      <th>...</th>\n",
       "      <td>...</td>\n",
       "      <td>...</td>\n",
       "      <td>...</td>\n",
       "      <td>...</td>\n",
       "      <td>...</td>\n",
       "      <td>...</td>\n",
       "      <td>...</td>\n",
       "      <td>...</td>\n",
       "    </tr>\n",
       "    <tr>\n",
       "      <th>58</th>\n",
       "      <td>Japan</td>\n",
       "      <td>219516</td>\n",
       "      <td>207415</td>\n",
       "      <td>208847</td>\n",
       "      <td>222527</td>\n",
       "      <td>236236</td>\n",
       "      <td>238903</td>\n",
       "      <td>48191</td>\n",
       "    </tr>\n",
       "    <tr>\n",
       "      <th>59</th>\n",
       "      <td>Rep. of Korea</td>\n",
       "      <td>106870</td>\n",
       "      <td>102993</td>\n",
       "      <td>111076</td>\n",
       "      <td>142383</td>\n",
       "      <td>150536</td>\n",
       "      <td>149445</td>\n",
       "      <td>32302</td>\n",
       "    </tr>\n",
       "    <tr>\n",
       "      <th>60</th>\n",
       "      <td>Taiwan</td>\n",
       "      <td>35857</td>\n",
       "      <td>36349</td>\n",
       "      <td>42327</td>\n",
       "      <td>47043</td>\n",
       "      <td>49457</td>\n",
       "      <td>48195</td>\n",
       "      <td>8969</td>\n",
       "    </tr>\n",
       "    <tr>\n",
       "      <th>61</th>\n",
       "      <td>Australia</td>\n",
       "      <td>239762</td>\n",
       "      <td>263201</td>\n",
       "      <td>293625</td>\n",
       "      <td>324243</td>\n",
       "      <td>346486</td>\n",
       "      <td>367241</td>\n",
       "      <td>86758</td>\n",
       "    </tr>\n",
       "    <tr>\n",
       "      <th>62</th>\n",
       "      <td>New Zealand</td>\n",
       "      <td>42864</td>\n",
       "      <td>45171</td>\n",
       "      <td>50917</td>\n",
       "      <td>56597</td>\n",
       "      <td>60664</td>\n",
       "      <td>65551</td>\n",
       "      <td>16653</td>\n",
       "    </tr>\n",
       "  </tbody>\n",
       "</table>\n",
       "<p>63 rows × 8 columns</p>\n",
       "</div>"
      ],
      "text/plain": [
       "          Country     2014     2015     2016     2017     2018     2019  \\\n",
       "0          Canada   268485   281306   317239   335439   351040   351859   \n",
       "1           U.S.A  1118983  1213624  1296939  1376919  1456678  1512032   \n",
       "2       Argentina     9731     9351    12308    14875    16345    12844   \n",
       "3          Brazil    19563    20610    21289    24453    26579    25422   \n",
       "4          Mexico    13978    14049    15689    18114    19909    20766   \n",
       "..            ...      ...      ...      ...      ...      ...      ...   \n",
       "58          Japan   219516   207415   208847   222527   236236   238903   \n",
       "59  Rep. of Korea   106870   102993   111076   142383   150536   149445   \n",
       "60         Taiwan    35857    36349    42327    47043    49457    48195   \n",
       "61      Australia   239762   263201   293625   324243   346486   367241   \n",
       "62    New Zealand    42864    45171    50917    56597    60664    65551   \n",
       "\n",
       "      2020  \n",
       "0   122868  \n",
       "1   394092  \n",
       "2     4294  \n",
       "3     8092  \n",
       "4     4580  \n",
       "..     ...  \n",
       "58   48191  \n",
       "59   32302  \n",
       "60    8969  \n",
       "61   86758  \n",
       "62   16653  \n",
       "\n",
       "[63 rows x 8 columns]"
      ]
     },
     "execution_count": 5,
     "metadata": {},
     "output_type": "execute_result"
    }
   ],
   "source": [
    "df"
   ]
  },
  {
   "cell_type": "code",
   "execution_count": 6,
   "metadata": {},
   "outputs": [
    {
     "data": {
      "text/plain": [
       "['Country', '2014', '2015', '2016', '2017', '2018', '2019', '2020']"
      ]
     },
     "execution_count": 6,
     "metadata": {},
     "output_type": "execute_result"
    }
   ],
   "source": [
    "df.columns.tolist()"
   ]
  },
  {
   "cell_type": "code",
   "execution_count": 7,
   "metadata": {},
   "outputs": [
    {
     "data": {
      "text/plain": [
       "<bound method DataFrame.info of           Country     2014     2015     2016     2017     2018     2019  \\\n",
       "0          Canada   268485   281306   317239   335439   351040   351859   \n",
       "1           U.S.A  1118983  1213624  1296939  1376919  1456678  1512032   \n",
       "2       Argentina     9731     9351    12308    14875    16345    12844   \n",
       "3          Brazil    19563    20610    21289    24453    26579    25422   \n",
       "4          Mexico    13978    14049    15689    18114    19909    20766   \n",
       "..            ...      ...      ...      ...      ...      ...      ...   \n",
       "58          Japan   219516   207415   208847   222527   236236   238903   \n",
       "59  Rep. of Korea   106870   102993   111076   142383   150536   149445   \n",
       "60         Taiwan    35857    36349    42327    47043    49457    48195   \n",
       "61      Australia   239762   263201   293625   324243   346486   367241   \n",
       "62    New Zealand    42864    45171    50917    56597    60664    65551   \n",
       "\n",
       "      2020  \n",
       "0   122868  \n",
       "1   394092  \n",
       "2     4294  \n",
       "3     8092  \n",
       "4     4580  \n",
       "..     ...  \n",
       "58   48191  \n",
       "59   32302  \n",
       "60    8969  \n",
       "61   86758  \n",
       "62   16653  \n",
       "\n",
       "[63 rows x 8 columns]>"
      ]
     },
     "execution_count": 7,
     "metadata": {},
     "output_type": "execute_result"
    }
   ],
   "source": [
    "df.info"
   ]
  },
  {
   "cell_type": "code",
   "execution_count": 41,
   "metadata": {},
   "outputs": [
    {
     "data": {
      "text/plain": [
       "63"
      ]
     },
     "execution_count": 41,
     "metadata": {},
     "output_type": "execute_result"
    }
   ],
   "source": [
    "df['Country'].nunique()"
   ]
  },
  {
   "cell_type": "code",
   "execution_count": 11,
   "metadata": {},
   "outputs": [],
   "source": [
    "df.drop_duplicates(subset='Country' ,inplace=True)"
   ]
  },
  {
   "cell_type": "code",
   "execution_count": 38,
   "metadata": {},
   "outputs": [],
   "source": [
    "years = list(range(2014,2021))"
   ]
  },
  {
   "cell_type": "code",
   "execution_count": 12,
   "metadata": {},
   "outputs": [
    {
     "data": {
      "text/plain": [
       "268485    1\n",
       "126416    1\n",
       "13136     1\n",
       "48321     1\n",
       "49321     1\n",
       "         ..\n",
       "29281     1\n",
       "16715     1\n",
       "46158     1\n",
       "27945     1\n",
       "42864     1\n",
       "Name: 2014, Length: 63, dtype: int64"
      ]
     },
     "execution_count": 12,
     "metadata": {},
     "output_type": "execute_result"
    }
   ],
   "source": [
    "df['2014'].value_counts()"
   ]
  },
  {
   "cell_type": "code",
   "execution_count": 13,
   "metadata": {},
   "outputs": [
    {
     "data": {
      "text/plain": [
       "281306    1\n",
       "154720    1\n",
       "14013     1\n",
       "42660     1\n",
       "50134     1\n",
       "         ..\n",
       "23098     1\n",
       "19168     1\n",
       "46139     1\n",
       "32533     1\n",
       "45171     1\n",
       "Name: 2015, Length: 63, dtype: int64"
      ]
     },
     "execution_count": 13,
     "metadata": {},
     "output_type": "execute_result"
    }
   ],
   "source": [
    "df['2015'].value_counts()"
   ]
  },
  {
   "cell_type": "code",
   "execution_count": 14,
   "metadata": {},
   "outputs": [
    {
     "data": {
      "text/plain": [
       "317239    1\n",
       "161097    1\n",
       "17382     1\n",
       "48227     1\n",
       "59231     1\n",
       "         ..\n",
       "26753     1\n",
       "20864     1\n",
       "44783     1\n",
       "34280     1\n",
       "50917     1\n",
       "Name: 2016, Length: 63, dtype: int64"
      ]
     },
     "execution_count": 14,
     "metadata": {},
     "output_type": "execute_result"
    }
   ],
   "source": [
    "df['2016'].value_counts()"
   ]
  },
  {
   "cell_type": "code",
   "execution_count": 15,
   "metadata": {},
   "outputs": [
    {
     "data": {
      "text/plain": [
       "335439    1\n",
       "164018    1\n",
       "16764     1\n",
       "56230     1\n",
       "58131     1\n",
       "         ..\n",
       "25988     1\n",
       "20528     1\n",
       "46011     1\n",
       "37706     1\n",
       "56597     1\n",
       "Name: 2017, Length: 63, dtype: int64"
      ]
     },
     "execution_count": 15,
     "metadata": {},
     "output_type": "execute_result"
    }
   ],
   "source": [
    "df['2017'].value_counts()"
   ]
  },
  {
   "cell_type": "code",
   "execution_count": 16,
   "metadata": {},
   "outputs": [
    {
     "data": {
      "text/plain": [
       "351040    1\n",
       "174096    1\n",
       "13915     1\n",
       "68462     1\n",
       "67366     1\n",
       "         ..\n",
       "26260     1\n",
       "20486     1\n",
       "48845     1\n",
       "42096     1\n",
       "60664     1\n",
       "Name: 2018, Length: 63, dtype: int64"
      ]
     },
     "execution_count": 16,
     "metadata": {},
     "output_type": "execute_result"
    }
   ],
   "source": [
    "df['2018'].value_counts()"
   ]
  },
  {
   "cell_type": "code",
   "execution_count": 17,
   "metadata": {},
   "outputs": [
    {
     "data": {
      "text/plain": [
       "351859    1\n",
       "164040    1\n",
       "15128     1\n",
       "61907     1\n",
       "73137     1\n",
       "         ..\n",
       "29468     1\n",
       "21538     1\n",
       "48639     1\n",
       "46814     1\n",
       "65551     1\n",
       "Name: 2019, Length: 63, dtype: int64"
      ]
     },
     "execution_count": 17,
     "metadata": {},
     "output_type": "execute_result"
    }
   ],
   "source": [
    "df['2019'].value_counts()"
   ]
  },
  {
   "cell_type": "code",
   "execution_count": 18,
   "metadata": {},
   "outputs": [
    {
     "data": {
      "text/plain": [
       "122868    1\n",
       "40822     1\n",
       "3429      1\n",
       "17823     1\n",
       "17444     1\n",
       "         ..\n",
       "10619     1\n",
       "4886      1\n",
       "12779     1\n",
       "11410     1\n",
       "16653     1\n",
       "Name: 2020, Length: 63, dtype: int64"
      ]
     },
     "execution_count": 18,
     "metadata": {},
     "output_type": "execute_result"
    }
   ],
   "source": [
    "df['2020'].value_counts()"
   ]
  },
  {
   "cell_type": "code",
   "execution_count": 22,
   "metadata": {},
   "outputs": [
    {
     "data": {
      "text/plain": [
       "<AxesSubplot: title={'center': 'Country wise graph'}>"
      ]
     },
     "execution_count": 22,
     "metadata": {},
     "output_type": "execute_result"
    },
    {
     "data": {
      "image/png": "[encoded data removed]",
      "text/plain": [
       "<Figure size 2000x500 with 1 Axes>"
      ]
     },
     "metadata": {},
     "output_type": "display_data"
    }
   ],
   "source": [
    "df['2014'].plot(kind='bar', figsize=(20, 5), title='Country wise graph')"
   ]
  },
  {
   "cell_type": "code",
   "execution_count": 52,
   "metadata": {},
   "outputs": [
    {
     "data": {
      "text/plain": [
       "<AxesSubplot: title={'center': 'Country wise graph'}>"
      ]
     },
     "execution_count": 52,
     "metadata": {},
     "output_type": "execute_result"
    },
    {
     "data": {
      "image/png": "[encoded data removed]",
      "text/plain": [
       "<Figure size 2000x500 with 1 Axes>"
      ]
     },
     "metadata": {},
     "output_type": "display_data"
    }
   ],
   "source": [
    "df['2015'].plot(kind='bar', figsize=(20, 5), title='Country wise graph')"
   ]
  },
  {
   "cell_type": "code",
   "execution_count": null,
   "metadata": {},
   "outputs": [],
   "source": []
  }
 ],
 "metadata": {
  "kernelspec": {
   "display_name": "base",
   "language": "python",
   "name": "python3"
  },
  "language_info": {
   "codemirror_mode": {
    "name": "ipython",
    "version": 3
   },
   "file_extension": ".py",
   "mimetype": "text/x-python",
   "name": "python",
   "nbconvert_exporter": "python",
   "pygments_lexer": "ipython3",
   "version": "3.9.12 (main, Apr  4 2022, 05:22:27) [MSC v.1916 64 bit (AMD64)]"
  },
  "orig_nbformat": 4,
  "vscode": {
   "interpreter": {
    "hash": "9d19b846c981df6691e2bdb59be634a7ebbdaac55797ba17323322a2d3a54045"
   }
  }
 },
 "nbformat": 4,
 "nbformat_minor": 2
}
