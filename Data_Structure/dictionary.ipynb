{
 "cells": [
  {
   "cell_type": "code",
   "execution_count": null,
   "metadata": {},
   "outputs": [],
   "source": [
    "x = ['Ravi Prakash',100,22,206022,'Lucknow','Regional variable',True,False]\n"
   ]
  },
  {
   "cell_type": "code",
   "execution_count": 21,
   "metadata": {},
   "outputs": [],
   "source": [
    "data = {'name':'Ravi Prakash','eid':100,\n",
    "        'age':22, 'pincode':206022,'city':'lucknow',\n",
    "        'degin':'regional manager','is_married':True}"
   ]
  },
  {
   "cell_type": "code",
   "execution_count": 22,
   "metadata": {},
   "outputs": [
    {
     "name": "stdout",
     "output_type": "stream",
     "text": [
      "{'name': 'Ravi Prakash', 'eid': 100, 'age': 22, 'pincode': 206022, 'city': 'lucknow', 'degin': 'regional manager', 'is_married': True}\n"
     ]
    }
   ],
   "source": [
    "print(data)"
   ]
  },
  {
   "cell_type": "code",
   "execution_count": 7,
   "metadata": {},
   "outputs": [
    {
     "data": {
      "text/plain": [
       "'Ravi Prakash'"
      ]
     },
     "execution_count": 7,
     "metadata": {},
     "output_type": "execute_result"
    }
   ],
   "source": [
    "data['name']"
   ]
  },
  {
   "cell_type": "code",
   "execution_count": 13,
   "metadata": {},
   "outputs": [
    {
     "data": {
      "text/plain": [
       "'regional manager'"
      ]
     },
     "execution_count": 13,
     "metadata": {},
     "output_type": "execute_result"
    }
   ],
   "source": [
    "data['degin'] "
   ]
  },
  {
   "cell_type": "code",
   "execution_count": 23,
   "metadata": {},
   "outputs": [
    {
     "data": {
      "text/plain": [
       "{'name': 'Ravi Prakash',\n",
       " 'eid': 100,\n",
       " 'age': 22,\n",
       " 'pincode': 206022,\n",
       " 'city': 'lucknow',\n",
       " 'degin': 'regional manager',\n",
       " 'is_married': True}"
      ]
     },
     "execution_count": 23,
     "metadata": {},
     "output_type": "execute_result"
    }
   ],
   "source": [
    "data"
   ]
  },
  {
   "cell_type": "code",
   "execution_count": 27,
   "metadata": {},
   "outputs": [
    {
     "data": {
      "text/plain": [
       "True"
      ]
     },
     "execution_count": 27,
     "metadata": {},
     "output_type": "execute_result"
    }
   ],
   "source": [
    "data.pop('is_married')"
   ]
  },
  {
   "cell_type": "code",
   "execution_count": 28,
   "metadata": {},
   "outputs": [
    {
     "name": "stdout",
     "output_type": "stream",
     "text": [
      "name\n",
      "eid\n",
      "age\n",
      "pincode\n",
      "city\n",
      "degin\n"
     ]
    }
   ],
   "source": [
    "for i in data:\n",
    "    print(i)"
   ]
  },
  {
   "cell_type": "code",
   "execution_count": 29,
   "metadata": {},
   "outputs": [
    {
     "name": "stdout",
     "output_type": "stream",
     "text": [
      "name Ravi Prakash\n",
      "eid 100\n",
      "age 22\n",
      "pincode 206022\n",
      "city lucknow\n",
      "degin regional manager\n"
     ]
    }
   ],
   "source": [
    "for k , v in data.items():\n",
    "    print(k,v)"
   ]
  },
  {
   "cell_type": "code",
   "execution_count": 30,
   "metadata": {},
   "outputs": [
    {
     "name": "stdout",
     "output_type": "stream",
     "text": [
      "name Ravi Prakash\n",
      "eid 100\n",
      "age 22\n",
      "pincode 206022\n",
      "city lucknow\n",
      "degin regional manager\n"
     ]
    }
   ],
   "source": [
    "for i in data:\n",
    "    print(i,data[i])"
   ]
  },
  {
   "cell_type": "code",
   "execution_count": 31,
   "metadata": {},
   "outputs": [
    {
     "name": "stdout",
     "output_type": "stream",
     "text": [
      "[1, 2, 3, 5, 0, 3, 4, 5, 654, 7]\n",
      "[2, 5, 3, 5, 7]\n"
     ]
    }
   ],
   "source": [
    "x = [1,2,3,5,0,3,4,5,654,7]\n",
    "x_odd = x[1::2]\n",
    "print(x)\n",
    "print(x_odd)"
   ]
  },
  {
   "cell_type": "code",
   "execution_count": 32,
   "metadata": {},
   "outputs": [
    {
     "name": "stdout",
     "output_type": "stream",
     "text": [
      "[2, 32, 4, 34, 34]\n"
     ]
    }
   ],
   "source": [
    "x = [1,2,3,32,54,4,534,34,4,34,34]\n",
    "x_odd = []\n",
    "for i,v in enumerate(x):\n",
    "    if i % 2 !=0:\n",
    "        x_odd.append(v)\n",
    "print(x_odd)\n"
   ]
  },
  {
   "cell_type": "code",
   "execution_count": 34,
   "metadata": {},
   "outputs": [
    {
     "name": "stdout",
     "output_type": "stream",
     "text": [
      "{'maggie': '12', 'salt': '15', 'cold drink': '20', 'kukure': '10', 'pyaaz ,tmaatar': '40'}\n"
     ]
    }
   ],
   "source": [
    "user_data = {}\n",
    "for i in range(5):\n",
    "    key = input(\"enter name?\")\n",
    "    val = input(\"enter value=>\")\n",
    "    user_data[key] = val\n",
    "print(user_data)"
   ]
  },
  {
   "cell_type": "code",
   "execution_count": 35,
   "metadata": {},
   "outputs": [],
   "source": [
    "#store student marks in dictionary\n",
    "report = {\n",
    "    'raja':{\n",
    "        'eng': [50,80],\n",
    "        'hindi':[40,83],\n",
    "        'maths':[39,59],\n",
    "\n",
    "    },\n",
    "    'rani' :{\n",
    "        'eng': [29,49],\n",
    "        'hindi':[40,70],\n",
    "        'maths':[2,1],\n",
    "\n",
    "    }, \n",
    "}"
   ]
  },
  {
   "cell_type": "code",
   "execution_count": 37,
   "metadata": {},
   "outputs": [
    {
     "name": "stdout",
     "output_type": "stream",
     "text": [
      "{'raja': {'eng': [50, 80], 'hindi': [40, 83], 'maths': [39, 59], 'comp': 50}, 'rani': {'eng': [29, 49], 'hindi': [40, 70], 'maths': [2, 1]}}\n"
     ]
    }
   ],
   "source": [
    "report['raja']['comp'] = 50\n",
    "print(report)"
   ]
  },
  {
   "cell_type": "code",
   "execution_count": 38,
   "metadata": {},
   "outputs": [
    {
     "name": "stdout",
     "output_type": "stream",
     "text": [
      "raja\n",
      "=>eng = [50, 80]\n",
      "=>hindi = [40, 83]\n",
      "=>maths = [39, 59]\n",
      "=>comp = 50\n",
      "rani\n",
      "=>eng = [29, 49]\n",
      "=>hindi = [40, 70]\n",
      "=>maths = [2, 1]\n"
     ]
    }
   ],
   "source": [
    "for name, marks in report.items():\n",
    "    print(name)\n",
    "    for subject, val in marks.items():\n",
    "        print(f'=>{subject} = {val}')"
   ]
  },
  {
   "cell_type": "code",
   "execution_count": 39,
   "metadata": {},
   "outputs": [
    {
     "name": "stdout",
     "output_type": "stream",
     "text": [
      "{'police': '112'}\n"
     ]
    }
   ],
   "source": [
    "user_data = {}\n",
    "name = input(\"enter name?\")\n",
    "contact_number = input(\"enter number=>\")\n",
    "user_data[name] = contact_number\n",
    "print(user_data)"
   ]
  },
  {
   "cell_type": "code",
   "execution_count": null,
   "metadata": {},
   "outputs": [],
   "source": []
  }
 ],
 "metadata": {
  "kernelspec": {
   "display_name": "Python 3.9.12 ('base')",
   "language": "python",
   "name": "python3"
  },
  "language_info": {
   "codemirror_mode": {
    "name": "ipython",
    "version": 3
   },
   "file_extension": ".py",
   "mimetype": "text/x-python",
   "name": "python",
   "nbconvert_exporter": "python",
   "pygments_lexer": "ipython3",
   "version": "3.9.12"
  },
  "orig_nbformat": 4,
  "vscode": {
   "interpreter": {
    "hash": "9d19b846c981df6691e2bdb59be634a7ebbdaac55797ba17323322a2d3a54045"
   }
  }
 },
 "nbformat": 4,
 "nbformat_minor": 2
}
