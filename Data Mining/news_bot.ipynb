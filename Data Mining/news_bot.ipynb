{
 "cells": [
  {
   "cell_type": "code",
   "execution_count": 3,
   "metadata": {},
   "outputs": [],
   "source": [
    "import requests\n",
    "from bs4 import BeautifulSoup"
   ]
  },
  {
   "cell_type": "code",
   "execution_count": 4,
   "metadata": {},
   "outputs": [
    {
     "name": "stdout",
     "output_type": "stream",
     "text": [
      "status 200\n"
     ]
    }
   ],
   "source": [
    "url = 'https://www.bbc.com/news/world'\n",
    "page = requests.get(url)\n",
    "print('status', page.status_code)"
   ]
  },
  {
   "cell_type": "code",
   "execution_count": 6,
   "metadata": {},
   "outputs": [],
   "source": [
    "soup = BeautifulSoup(page.text)"
   ]
  },
  {
   "cell_type": "code",
   "execution_count": 10,
   "metadata": {},
   "outputs": [
    {
     "data": {
      "text/plain": [
       "'US votes in midterm elections to decide who controls Congress'"
      ]
     },
     "execution_count": 10,
     "metadata": {},
     "output_type": "execute_result"
    }
   ],
   "source": [
    "headings = soup.find_all('h3')\n",
    "headings[1].text"
   ]
  },
  {
   "cell_type": "code",
   "execution_count": 11,
   "metadata": {},
   "outputs": [
    {
     "data": {
      "text/plain": [
       "\"US confirms 'communications' with Kremlin\""
      ]
     },
     "execution_count": 11,
     "metadata": {},
     "output_type": "execute_result"
    }
   ],
   "source": [
    "headings[2].text"
   ]
  },
  {
   "cell_type": "code",
   "execution_count": 12,
   "metadata": {},
   "outputs": [
    {
     "data": {
      "text/plain": [
       "'Notorious Instagram influencer jailed for fraud'"
      ]
     },
     "execution_count": 12,
     "metadata": {},
     "output_type": "execute_result"
    }
   ],
   "source": [
    "headings[3].text"
   ]
  },
  {
   "cell_type": "code",
   "execution_count": 13,
   "metadata": {},
   "outputs": [
    {
     "name": "stdout",
     "output_type": "stream",
     "text": [
      "US votes in midterm elections to decide who controls Congress\n",
      "US votes in midterm elections to decide who controls Congress\n",
      "US confirms 'communications' with Kremlin\n",
      "Notorious Instagram influencer jailed for fraud\n",
      "Trudeau accuses China of election interference\n",
      "Christchurch mass killer appeals against conviction\n",
      "Philippine prisons chief accused of journalist killing\n",
      "In the name of atheism: The case of Mubarak Bala\n",
      "US votes in midterm elections to decide who controls Congress\n",
      "US confirms 'communications' with Kremlin\n",
      "Notorious Instagram influencer jailed for fraud\n",
      "Trudeau accuses China of election interference\n",
      "Christchurch mass killer appeals against conviction\n",
      "Philippine prisons chief accused of journalist killing\n",
      "In the name of atheism: The case of Mubarak Bala\n",
      "US confirms 'communications' with Kremlin\n",
      "Notorious Instagram influencer jailed for fraud\n",
      "Trudeau accuses China of election interference\n",
      "Christchurch mass killer appeals against conviction\n",
      "Philippine prisons chief accused of journalist killing\n",
      "In the name of atheism: The case of Mubarak Bala\n",
      "Three leap from migrant rescue boat held in Italy\n",
      "West urged to step up Ukraine air defence support\n",
      "What to know about the record US lotto jackpot\n",
      "British-Egyptian activist's family pin hopes on PM\n",
      "Cardinal among 11 French bishops accused of abuse\n",
      "The big moments to watch for on US election night\n",
      "Why is recapturing Kherson so important for Ukraine?\n",
      "Why South Africa will struggle to wean itself off coal\n",
      "'We'd never seen this much water' - flood survivors\n",
      "The Indian-American 'helping' Elon Musk run Twitter\n",
      "'Help us' heard from migrant rescue boat in Italy\n",
      "Rescuers search site of crashed plane in Tanzania\n",
      "WATCH: Moment woman saved from fire with rope\n",
      "Fossil abstinence isn't working - climate expert\n",
      "Peru anti-government protest grips capital Lima\n",
      "Notorious Instagram influencer jailed for fraud\n",
      "UN welcomes release of abducted Nigerian teenagers\n",
      "Trudeau accuses China of election interference\n",
      "Mali denies northern region under jihadist control\n",
      "Family's struggle with casual racism in hometown\n",
      "Burkinabè leader visits troops in troubled region\n",
      "Christchurch mass killer appeals against conviction\n",
      "US votes in midterm elections to decide who controls Congress\n",
      "East African leaders meet in Egypt over DR Congo crisis\n",
      "Ugandan Asian recalls fleeing country 50 years on\n",
      "Parents disagree over where star's skill came from\n",
      "Exhibition to explore legacy of Partition\n",
      "UK downgrades warning against travel to Abuja\n",
      "What to know about the record US lotto jackpot\n",
      "Malawi gets 2.9m cholera vaccines as outbreak spreads\n",
      "Three leap from migrant rescue boat held in Italy\n",
      "iPhone maker Foxconn bets on US electric truck firm\n",
      "Nigeria train service to resume after March attack\n",
      "Philippine prisons chief accused of journalist killing\n",
      "US Congress at stake as Americans vote in midterms\n",
      "How a cold home harms your health\n",
      "The non-verbal rules for digital life\n",
      "A remote side of Canada few ever see\n",
      "China's secret female-only language\n",
      "Why some people are overlooked geniuses\n",
      "The jobseekers whose stunts went viral\n",
      "Washington DC's hidden boundary stones\n",
      "News daily newsletter\n",
      "Mobile app\n",
      "Get in touch\n"
     ]
    }
   ],
   "source": [
    "for heading in headings:\n",
    "    print(heading.text)"
   ]
  },
  {
   "cell_type": "markdown",
   "metadata": {},
   "source": [
    "////\n",
    "    News bot for headline extraction\n",
    "    ////\n"
   ]
  },
  {
   "cell_type": "code",
   "execution_count": 15,
   "metadata": {},
   "outputs": [],
   "source": [
    "#function to get the newsd page from the web url as soup object\n",
    "\n",
    "def get (url):\n",
    "    page =  requests.get(url)\n",
    "    if page.status_code == 200:\n",
    "        return BeautifulSoup(page.text)\n",
    "    else:\n",
    "        print('Error: ', page.status_code)\n",
    "        return None"
   ]
  },
  {
   "cell_type": "code",
   "execution_count": 16,
   "metadata": {},
   "outputs": [],
   "source": [
    "url = 'https://www.ndtv.com/latest'\n",
    "soup = get(url)"
   ]
  },
  {
   "cell_type": "code",
   "execution_count": 22,
   "metadata": {},
   "outputs": [
    {
     "name": "stdout",
     "output_type": "stream",
     "text": [
      "target found\n"
     ]
    }
   ],
   "source": [
    "# 1~ get the targeted section\n",
    "target = soup.find('div', class_ = 'lisingNews')\n",
    "if target is not None:\n",
    "    print('target found')\n",
    "else:\n",
    "    print('target not find')"
   ]
  },
  {
   "cell_type": "code",
   "execution_count": 23,
   "metadata": {},
   "outputs": [
    {
     "name": "stdout",
     "output_type": "stream",
     "text": [
      "total news:  17\n"
     ]
    }
   ],
   "source": [
    "# 2~ get all the news headlines from the targeted section\n",
    "news = target.find_all('div', class_ = 'news_Itm')\n",
    "print('total news: ', len(news))"
   ]
  },
  {
   "cell_type": "code",
   "execution_count": 24,
   "metadata": {},
   "outputs": [
    {
     "name": "stdout",
     "output_type": "stream",
     "text": [
      "S Jaishankar In Russia, Meets Counterpart Sergie Lavrov: Highlights\n",
      "\t\t\t\t\t\t\t\t\t\t\t\t\t\t\tTuesday November 08, 2022                                                        \n",
      "                                                        External Affairs Minister S Jaishankar and his Russian counterpart Sergei Lavrov on Tuesday held talks in Moscow covering a range of bilateral, regional and global issues of mutual interests.\n",
      "Bitcoin, Ether Prices Tumble After Binance's FTT Sell-Off Squabble Heats Up\n",
      "\t\t\t\t\t\t\t\t\t\t\t\t\t\t\tWritten by Shomik Sen Bhattacharjee , Edited by Siddharth Suvarna  | Tuesday November 08, 2022                                                        \n",
      "                                                        The global crypto market has witnessed a decline in value due to lasting bearishness. The performance of Bitcoin, Ether and other major atlcoins suffered a poor start to the week after news broke out over the weekend about Binance deciding to sell off its massive stash of FTX's FTT tokens.\n",
      "Lakshya Sen Reaches Career-Best Sixth In BWF RankingsPress Trust of India   | Tuesday November 08, 2022                                                        \n",
      "                                                        Commonwealth Games champion Lakshya Sen on Tuesday jumped two spots to achieve a career-best sixth in the latest BWF World Rankings.\n",
      "\n",
      "\"Hope Servers Don't Melt\": Elon Musk Claims Twitter Usage Is All-Time High\n",
      "\t\t\t\t\t\t\t\t\t\t\t\t\t\t\tEdited by Bhavya Sukheja  | Tuesday November 08, 2022                                                        \n",
      "                                                        Twitter has been in a state of chaos ever since Elon Musk bought the company for $44 billion, however, the new chief executive on Monday claimed that users are logging onto the platform more than ever.\n",
      "India, Russia Talks To Address Global Situation, Specific Regional Concerns\n",
      "\t\t\t\t\t\t\t\t\t\t\t\t\t\t\tEdited by Debanish Achom  | Tuesday November 08, 2022, New Delhi                                                        \n",
      "                                                        India and Russia will discuss the overall global situation amid the war in Ukraine as well as specific regional concerns, the government said in a statement today as Foreign Minister J Jaishankar met his Russian counterpart Sergey Lavrov.\n",
      "India, Russia Talks To Address Global Situation, Specific Regional ConcernsNDTV News Desk   | Tuesday November 08, 2022, New Delhi                                                        \n",
      "                                                        \n",
      "\n",
      "Adorable Video Of Toddler Showering Dog With Kisses Will Melt Your Heart\n",
      "\t\t\t\t\t\t\t\t\t\t\t\t\t\t\tEdited by Anjali Thakur  | Tuesday November 08, 2022                                                        \n",
      "                                                        This cute little toddler plants some kisses on a dog, and the internet is loving the heartwarming video.\n",
      "MHT CET Counselling 2022 CAP Round 3 Provisional Allotment Tomorrow\n",
      "\t\t\t\t\t\t\t\t\t\t\t\t\t\t\tWritten by Arpita Das  | Tuesday November 08, 2022                                                        \n",
      "                                                        Candidates need to accept the offered seat from November 10 to November 12. The reporting to the allotted institutes is from November 10 to November 12.\n",
      "Spider-Man: Across the Spider-Verse Casts Daniel Kaluuya as Spider-Punk: ReportPress Trust of India   | Tuesday November 08, 2022                                                        \n",
      "                                                        Daniel Kaluuya is reportedly the latest addition to the cast of \"Spider-Man: Across the Spider-Verse\", the sequel to blockbuster Oscar-winning animated film \"Spider-Man: Into the Spider-Verse\". Kaluuya will voice Hobart “Hobie” Brown aka Spider-Punk. Spider-Man: Across the Spider-Verse release date is June 2, 2023.\n",
      "This African Nation Wants Indian Firms Like Vedanta To Mine Its Oil, GoldPress Trust of India   | Tuesday November 08, 2022, New Delhi                                                        \n",
      "                                                        Landlocked in the heart of Africa, the Central African Republic is seeking Indian investors to mine its abundant natural resources ranging from oil, uranium and lithium to gold, diamonds, iron ore and copper.\n",
      "\"About To See Something Very Special From Babar Azam\": Matthew Hayden's Warning To Pakistan's RivalsPress Trust of India   | Tuesday November 08, 2022                                                        \n",
      "                                                        Babar Azam has failed to fire in the ongoing T20 World Cup, with a 33-ball 25 against Bangladesh being his best in the last five matches\n",
      "MI Cape Town, Paarl Royals To Kickstart SA20 On January 10Asian News International   | Tuesday November 08, 2022                                                        \n",
      "                                                        SA20: All teams will play each other twice - on a home-and-away basis - during the league followed by two semi-finals and the final.\n",
      "Japan To Curb Donation Rules To Religious Groups After Shinzo Abe's MurderAgence France-Presse   | Tuesday November 08, 2022, Tokyo                                                        \n",
      "                                                        The Japanese government will propose a new law to prevent harmfully large donations to religious groups, Prime Minister Fumio Kishida said Tuesday, after Shinzo Abe's assassination.\n",
      "India vs England: Full List Of Knockout Matches Between The Cricket Powerhouses In ICC EventsVishesh Roy   | Tuesday November 08, 2022                                                        \n",
      "                                                        The 2022 T20 World Cup 2022 will be only the fourth time that India and England will square off in a knockout match of an ICC event\n",
      "How Qatar Is Handling A Year's Worth of Boozing In Four WeeksSimone Foxman, Bloomberg   | Tuesday November 08, 2022                                                        \n",
      "                                                        The King of Beers is taking over Qatar. The signs started appearing early this year: At the Qatar Distribution Company a massive poster with Budweiser branding featuring Lionel Messi was plastered across the entrance.\n"
     ]
    }
   ],
   "source": [
    "# 3~ extract the news headline and news link from the news\n",
    "for n in news:\n",
    "    print(n.text)\n"
   ]
  },
  {
   "cell_type": "code",
   "execution_count": null,
   "metadata": {},
   "outputs": [],
   "source": []
  }
 ],
 "metadata": {
  "kernelspec": {
   "display_name": "Python 3.9.12 ('base')",
   "language": "python",
   "name": "python3"
  },
  "language_info": {
   "codemirror_mode": {
    "name": "ipython",
    "version": 3
   },
   "file_extension": ".py",
   "mimetype": "text/x-python",
   "name": "python",
   "nbconvert_exporter": "python",
   "pygments_lexer": "ipython3",
   "version": "3.9.12"
  },
  "orig_nbformat": 4,
  "vscode": {
   "interpreter": {
    "hash": "9d19b846c981df6691e2bdb59be634a7ebbdaac55797ba17323322a2d3a54045"
   }
  }
 },
 "nbformat": 4,
 "nbformat_minor": 2
}
