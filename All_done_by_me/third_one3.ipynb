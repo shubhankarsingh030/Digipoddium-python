{
 "cells": [
  {
   "cell_type": "code",
   "execution_count": 1,
   "metadata": {},
   "outputs": [
    {
     "data": {
      "text/plain": [
       "7"
      ]
     },
     "execution_count": 1,
     "metadata": {},
     "output_type": "execute_result"
    }
   ],
   "source": [
    "#17. Ask user to input a string and print how many times e appeared in the string\n",
    "\n",
    "s = \"seventy seven is not sevent eight\"\n",
    "s.count('e')"
   ]
  },
  {
   "cell_type": "code",
   "execution_count": 11,
   "metadata": {},
   "outputs": [
    {
     "data": {
      "text/plain": [
       "['Joe, David, Mark, Tom, Chris, Robert']"
      ]
     },
     "execution_count": 11,
     "metadata": {},
     "output_type": "execute_result"
    }
   ],
   "source": [
    "#21\n",
    "text =  'Joe, David, Mark, Tom, Chris, Robert'\n",
    "text.split(\"][\")"
   ]
  },
  {
   "cell_type": "code",
   "execution_count": 13,
   "metadata": {},
   "outputs": [
    {
     "name": "stdout",
     "output_type": "stream",
     "text": [
      "fyi found\n"
     ]
    }
   ],
   "source": [
    "s = input(\"enter some data=>\")\n",
    "if 'fyi' in s.lower():\n",
    "    print(\"fyi found\")"
   ]
  },
  {
   "cell_type": "code",
   "execution_count": 14,
   "metadata": {},
   "outputs": [
    {
     "name": "stdout",
     "output_type": "stream",
     "text": [
      "!\"#$%&'()*+,-./:;<=>?@[\\]^_`{|}~\n"
     ]
    }
   ],
   "source": [
    "#24\n",
    "from string import punctuation\n",
    "print(punctuation)"
   ]
  },
  {
   "cell_type": "code",
   "execution_count": 20,
   "metadata": {},
   "outputs": [
    {
     "name": "stdout",
     "output_type": "stream",
     "text": [
      "average word size=> 5\n"
     ]
    }
   ],
   "source": [
    "#25\n",
    "\n",
    "paragraph = \"this is a paragraph which is written just for the purpose of providing content to let the average word length be calculated\"\n",
    "words = paragraph.split()\n",
    "total_words = len(words)\n",
    "wlt = 0\n",
    "for word in words:\n",
    "    wlt += len(word)\n",
    "print(\"average word size=>\", round(wlt/total_words))"
   ]
  },
  {
   "cell_type": "markdown",
   "metadata": {},
   "source": [
    "```\n",
    "###############\n",
    "###############\n",
    "#####\n",
    "#####\n",
    "     #####\n",
    "     #####\n",
    "          #####\n",
    "          #####\n",
    "################\n",
    "################ \n",
    "```       "
   ]
  },
  {
   "cell_type": "code",
   "execution_count": null,
   "metadata": {},
   "outputs": [],
   "source": [
    "for i range(2):\n",
    "    print"
   ]
  }
 ],
 "metadata": {
  "kernelspec": {
   "display_name": "Python 3.9.12 ('base')",
   "language": "python",
   "name": "python3"
  },
  "language_info": {
   "codemirror_mode": {
    "name": "ipython",
    "version": 3
   },
   "file_extension": ".py",
   "mimetype": "text/x-python",
   "name": "python",
   "nbconvert_exporter": "python",
   "pygments_lexer": "ipython3",
   "version": "3.9.12"
  },
  "orig_nbformat": 4,
  "vscode": {
   "interpreter": {
    "hash": "9d19b846c981df6691e2bdb59be634a7ebbdaac55797ba17323322a2d3a54045"
   }
  }
 },
 "nbformat": 4,
 "nbformat_minor": 2
}
