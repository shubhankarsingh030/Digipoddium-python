{
 "cells": [
  {
   "cell_type": "code",
   "execution_count": 6,
   "metadata": {},
   "outputs": [],
   "source": [
    "msg = '''The updated Google Search experience was one of several changes\n",
    "the company announced today at its Search On event. Google's own research\n",
    "showed that almost 40% of young people would often just search TikTok or\n",
    "Instagram to find a place to for lunch, instead of Google or Google Maps.\n",
    "'''"
   ]
  },
  {
   "cell_type": "code",
   "execution_count": 7,
   "metadata": {},
   "outputs": [
    {
     "name": "stdout",
     "output_type": "stream",
     "text": [
      "total charcter:285\n"
     ]
    }
   ],
   "source": [
    "Chars = len(msg)\n",
    "print(f'total charcter:{Chars}')"
   ]
  },
  {
   "cell_type": "code",
   "execution_count": 8,
   "metadata": {},
   "outputs": [
    {
     "data": {
      "text/plain": [
       "211"
      ]
     },
     "execution_count": 8,
     "metadata": {},
     "output_type": "execute_result"
    }
   ],
   "source": [
    "msg.find('Instagram')"
   ]
  },
  {
   "cell_type": "code",
   "execution_count": 9,
   "metadata": {},
   "outputs": [
    {
     "data": {
      "text/plain": [
       "237"
      ]
     },
     "execution_count": 9,
     "metadata": {},
     "output_type": "execute_result"
    }
   ],
   "source": [
    "msg.rfind('to')"
   ]
  },
  {
   "cell_type": "code",
   "execution_count": 10,
   "metadata": {},
   "outputs": [
    {
     "data": {
      "text/plain": [
       "\"today at its Search On event. Google's own research\\nshowed that almost 40% of young people would often just search TikTok or\\nInstagram to find a place to for lunch, instead of Google or Google Maps.\\n\""
      ]
     },
     "execution_count": 10,
     "metadata": {},
     "output_type": "execute_result"
    }
   ],
   "source": [
    "idx = msg.find('today')\n",
    "msg[idx:]"
   ]
  },
  {
   "cell_type": "code",
   "execution_count": 11,
   "metadata": {},
   "outputs": [
    {
     "name": "stdout",
     "output_type": "stream",
     "text": [
      "The updated Microsoft Search experience was one of several changes\n",
      "the company announced today at its Search On event. Microsoft's own research\n",
      "showed that almost 40% of young people would often just search TikTok or\n",
      "Instagram to find a place to for lunch, instead of Microsoft or Microsoft Maps.\n",
      "\n"
     ]
    }
   ],
   "source": [
    "result = msg.replace(\"Google\",\"Microsoft\")\n",
    "print(result)"
   ]
  },
  {
   "cell_type": "code",
   "execution_count": 12,
   "metadata": {},
   "outputs": [
    {
     "name": "stdout",
     "output_type": "stream",
     "text": [
      "RESULT = The updated meta Search experience is one of several changes\n",
      "the company announced today at its Search On event. meta's own rerescue\n",
      "showed that almost 40% of young people would often just rescue TikTok or\n",
      "Instagram to find a place to for lunch, instead of meta or meta Maps.\n",
      "\n"
     ]
    }
   ],
   "source": [
    "result2 = msg.replace('was','is').replace('search','rescue',).replace('Google','meta')\n",
    "print(f'RESULT = {result2}')"
   ]
  },
  {
   "cell_type": "code",
   "execution_count": 13,
   "metadata": {},
   "outputs": [
    {
     "name": "stdout",
     "output_type": "stream",
     "text": [
      "['The', 'updated', 'Google', 'Search', 'experience', 'was', 'one', 'of', 'several', 'changes', 'the', 'company', 'announced', 'today', 'at', 'its', 'Search', 'On', 'event.', \"Google's\", 'own', 'research', 'showed', 'that', 'almost', '40%', 'of', 'young', 'people', 'would', 'often', 'just', 'search', 'TikTok', 'or', 'Instagram', 'to', 'find', 'a', 'place', 'to', 'for', 'lunch,', 'instead', 'of', 'Google', 'or', 'Google', 'Maps.']\n"
     ]
    }
   ],
   "source": [
    "words=msg.split()\n",
    "print(words)"
   ]
  },
  {
   "cell_type": "code",
   "execution_count": 14,
   "metadata": {},
   "outputs": [
    {
     "name": "stdout",
     "output_type": "stream",
     "text": [
      "['The updated Google Search experience was one of several changes', \"the company announced today at its Search On event. Google's own research\", 'showed that almost 40% of young people would often just search TikTok or', 'Instagram to find a place to for lunch, instead of Google or Google Maps.']\n"
     ]
    }
   ],
   "source": [
    "lines = msg.splitlines()\n",
    "print(lines)"
   ]
  },
  {
   "cell_type": "code",
   "execution_count": 18,
   "metadata": {},
   "outputs": [
    {
     "name": "stdout",
     "output_type": "stream",
     "text": [
      "['amar', ' akbar', ' vikram', ' vedha']\n",
      "name -> amar\n",
      "name ->  akbar\n",
      "name ->  vikram\n",
      "name ->  vedha\n"
     ]
    }
   ],
   "source": [
    "name = \"amar, akbar, vikram, vedha\"\n",
    "name_list = name.split(\",\")\n",
    "\n",
    "print(name_list)\n",
    "for nm in name_list:\n",
    "    print('name ->',nm)"
   ]
  },
  {
   "cell_type": "code",
   "execution_count": 19,
   "metadata": {},
   "outputs": [
    {
     "name": "stdout",
     "output_type": "stream",
     "text": [
      "['altu', 'faltu', 'jalaltu', 'lya', 'kru', 'btaa', 'tu']\n"
     ]
    }
   ],
   "source": [
    "#splits\n",
    "\n",
    "items = input(\" enter 5 items saperated by space\").split()\n",
    "print(items)\n",
    "\n"
   ]
  },
  {
   "cell_type": "code",
   "execution_count": 22,
   "metadata": {},
   "outputs": [
    {
     "name": "stdout",
     "output_type": "stream",
     "text": [
      "pyhton -m textblob 1\n",
      "pyhton|-m|textblob|1\n"
     ]
    }
   ],
   "source": [
    "data_list = ['pyhton','-m','textblob','1']\n",
    "result = \" \".join(data_list)\n",
    "print(result)\n",
    "result = \"|\".join(data_list)\n",
    "print(result)"
   ]
  },
  {
   "cell_type": "code",
   "execution_count": 23,
   "metadata": {},
   "outputs": [
    {
     "name": "stdout",
     "output_type": "stream",
     "text": [
      "THE UPDATED GOOGLE SEARCH EXPERIENCE WAS ONE OF SEVERAL CHANGES\n",
      "THE COMPANY ANNOUNCED TODAY AT ITS SEARCH ON EVENT. GOOGLE'S OWN RESEARCH\n",
      "SHOWED THAT ALMOST 40% OF YOUNG PEOPLE WOULD OFTEN JUST SEARCH TIKTOK OR\n",
      "INSTAGRAM TO FIND A PLACE TO FOR LUNCH, INSTEAD OF GOOGLE OR GOOGLE MAPS.\n",
      "\n"
     ]
    }
   ],
   "source": [
    "result = msg.upper()\n",
    "print(result)"
   ]
  },
  {
   "cell_type": "code",
   "execution_count": 25,
   "metadata": {},
   "outputs": [
    {
     "name": "stdout",
     "output_type": "stream",
     "text": [
      "The updated google search experience was one of several changes\n",
      "the company announced today at its search on event. google's own research\n",
      "showed that almost 40% of young people would often just search tiktok or\n",
      "instagram to find a place to for lunch, instead of google or google maps.\n",
      "\n"
     ]
    }
   ],
   "source": [
    "result = msg.capitalize()\n",
    "print(result)"
   ]
  },
  {
   "cell_type": "code",
   "execution_count": 26,
   "metadata": {},
   "outputs": [
    {
     "name": "stdout",
     "output_type": "stream",
     "text": [
      "the updated google search experience was one of several changes\n",
      "the company announced today at its search on event. google's own research\n",
      "showed that almost 40% of young people would often just search tiktok or\n",
      "instagram to find a place to for lunch, instead of google or google maps.\n",
      "\n"
     ]
    }
   ],
   "source": [
    "result = msg.lower()\n",
    "print(result)"
   ]
  },
  {
   "cell_type": "code",
   "execution_count": 28,
   "metadata": {},
   "outputs": [
    {
     "name": "stdout",
     "output_type": "stream",
     "text": [
      "tHE UPDATED gOOGLE sEARCH EXPERIENCE WAS ONE OF SEVERAL CHANGES\n",
      "THE COMPANY ANNOUNCED TODAY AT ITS sEARCH oN EVENT. gOOGLE'S OWN RESEARCH\n",
      "SHOWED THAT ALMOST 40% OF YOUNG PEOPLE WOULD OFTEN JUST SEARCH tIKtOK OR\n",
      "iNSTAGRAM TO FIND A PLACE TO FOR LUNCH, INSTEAD OF gOOGLE OR gOOGLE mAPS.\n",
      "\n"
     ]
    }
   ],
   "source": [
    "result = msg.swapcase()\n",
    "print(result)"
   ]
  },
  {
   "cell_type": "code",
   "execution_count": 29,
   "metadata": {},
   "outputs": [
    {
     "name": "stdout",
     "output_type": "stream",
     "text": [
      "The Updated Google Search Experience Was One Of Several Changes\n",
      "The Company Announced Today At Its Search On Event. Google'S Own Research\n",
      "Showed That Almost 40% Of Young People Would Often Just Search Tiktok Or\n",
      "Instagram To Find A Place To For Lunch, Instead Of Google Or Google Maps.\n",
      "\n"
     ]
    }
   ],
   "source": [
    "result = msg.title()\n",
    "print(result)"
   ]
  },
  {
   "cell_type": "code",
   "execution_count": 31,
   "metadata": {},
   "outputs": [
    {
     "name": "stdout",
     "output_type": "stream",
     "text": [
      "tHE uPDATED gOOGLE sEARCH eXPERIENCE wAS oNE oF sEVERAL cHANGES\n",
      "tHE cOMPANY aNNOUNCED tODAY aT iTS sEARCH oN eVENT. gOOGLE's oWN rESEARCH\n",
      "sHOWED tHAT aLMOST 40% oF yOUNG pEOPLE wOULD oFTEN jUST sEARCH tIKTOK oR\n",
      "iNSTAGRAM tO fIND a pLACE tO fOR lUNCH, iNSTEAD oF gOOGLE oR gOOGLE mAPS.\n",
      "\n"
     ]
    }
   ],
   "source": [
    "result = msg.title().swapcase()\n",
    "print(result)"
   ]
  },
  {
   "cell_type": "code",
   "execution_count": null,
   "metadata": {},
   "outputs": [],
   "source": []
  }
 ],
 "metadata": {
  "kernelspec": {
   "display_name": "Python 3.9.12 ('base')",
   "language": "python",
   "name": "python3"
  },
  "language_info": {
   "codemirror_mode": {
    "name": "ipython",
    "version": 3
   },
   "file_extension": ".py",
   "mimetype": "text/x-python",
   "name": "python",
   "nbconvert_exporter": "python",
   "pygments_lexer": "ipython3",
   "version": "3.9.12"
  },
  "orig_nbformat": 4,
  "vscode": {
   "interpreter": {
    "hash": "9d19b846c981df6691e2bdb59be634a7ebbdaac55797ba17323322a2d3a54045"
   }
  }
 },
 "nbformat": 4,
 "nbformat_minor": 2
}
