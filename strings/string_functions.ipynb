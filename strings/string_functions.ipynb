{
 "cells": [
  {
   "cell_type": "code",
   "execution_count": 1,
   "metadata": {},
   "outputs": [],
   "source": [
    "msg = '''The updated Google Search experience was one of several changes\n",
    "the company announced today at its Search On event. Google's own research\n",
    "showed that almost 40% of young people would often just search TikTok or\n",
    "Instagram to find a place to for lunch, instead of Google or Google Maps.\n",
    "'''"
   ]
  },
  {
   "cell_type": "code",
   "execution_count": 3,
   "metadata": {},
   "outputs": [
    {
     "name": "stdout",
     "output_type": "stream",
     "text": [
      "total charcter:286\n"
     ]
    }
   ],
   "source": [
    "Chars = len(msg)\n",
    "print(f'total charcter:{Chars}')"
   ]
  },
  {
   "cell_type": "code",
   "execution_count": 4,
   "metadata": {},
   "outputs": [
    {
     "data": {
      "text/plain": [
       "212"
      ]
     },
     "execution_count": 4,
     "metadata": {},
     "output_type": "execute_result"
    }
   ],
   "source": [
    "msg.find('Instagram')"
   ]
  },
  {
   "cell_type": "code",
   "execution_count": 5,
   "metadata": {},
   "outputs": [
    {
     "data": {
      "text/plain": [
       "238"
      ]
     },
     "execution_count": 5,
     "metadata": {},
     "output_type": "execute_result"
    }
   ],
   "source": [
    "msg.rfind('to')"
   ]
  },
  {
   "cell_type": "code",
   "execution_count": 8,
   "metadata": {},
   "outputs": [
    {
     "data": {
      "text/plain": [
       "\"today at its Search On event. Google's own research\\nshowed that almost 40 % of young people would often just search TikTok or\\nInstagram to find a place to for lunch, instead of Google or Google Maps.\\n\""
      ]
     },
     "execution_count": 8,
     "metadata": {},
     "output_type": "execute_result"
    }
   ],
   "source": [
    "idx = msg.find('today')\n",
    "msg[idx:]"
   ]
  },
  {
   "cell_type": "code",
   "execution_count": 13,
   "metadata": {},
   "outputs": [
    {
     "name": "stdout",
     "output_type": "stream",
     "text": [
      "The updated Microsoft Search experience was one of several changes\n",
      "the company announced today at its Search On event. Microsoft's own research\n",
      "showed that almost 40 % of young people would often just search TikTok or\n",
      "Instagram to find a place to for lunch, instead of Microsoft or Microsoft Maps.\n",
      "\n"
     ]
    }
   ],
   "source": [
    "result = msg.replace(\"Google\",\"Microsoft\")\n",
    "print(result)"
   ]
  },
  {
   "cell_type": "code",
   "execution_count": 20,
   "metadata": {},
   "outputs": [
    {
     "name": "stdout",
     "output_type": "stream",
     "text": [
      "RESULT = The updated meta Search experience is one of several changes\n",
      "the company announced today at its Search On event. meta's own rerescue\n",
      "showed that almost 40 % of young people would often just rescue TikTok or\n",
      "Instagram to find a place to for lunch, instead of meta or meta Maps.\n",
      "\n"
     ]
    }
   ],
   "source": [
    "result2 = msg.replace('was','is').replace('search','rescue',).replace('Google','meta')\n",
    "print(f'RESULT = {result2}')"
   ]
  },
  {
   "cell_type": "code",
   "execution_count": null,
   "metadata": {},
   "outputs": [],
   "source": []
  }
 ],
 "metadata": {
  "kernelspec": {
   "display_name": "Python 3.9.12 ('base')",
   "language": "python",
   "name": "python3"
  },
  "language_info": {
   "codemirror_mode": {
    "name": "ipython",
    "version": 3
   },
   "file_extension": ".py",
   "mimetype": "text/x-python",
   "name": "python",
   "nbconvert_exporter": "python",
   "pygments_lexer": "ipython3",
   "version": "3.9.12"
  },
  "orig_nbformat": 4,
  "vscode": {
   "interpreter": {
    "hash": "9d19b846c981df6691e2bdb59be634a7ebbdaac55797ba17323322a2d3a54045"
   }
  }
 },
 "nbformat": 4,
 "nbformat_minor": 2
}
