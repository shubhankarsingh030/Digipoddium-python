{
 "cells": [
  {
   "cell_type": "code",
   "execution_count": 1,
   "metadata": {},
   "outputs": [
    {
     "name": "stdout",
     "output_type": "stream",
     "text": [
      "whhiiitttteeeee\n"
     ]
    }
   ],
   "source": [
    "string = input(\"Enter a string: \")\n",
    "pattern = \"\"\n",
    "for i in range(len(string)):\n",
    "    pattern += string[i] * (i + 1)\n",
    "    if i < len(string) - 1:\n",
    "        pattern += \"\"\n",
    "print(pattern)\n"
   ]
  },
  {
   "cell_type": "code",
   "execution_count": 2,
   "metadata": {},
   "outputs": [
    {
     "ename": "TypeError",
     "evalue": "can only concatenate tuple (not \"str\") to tuple",
     "output_type": "error",
     "traceback": [
      "\u001b[1;31m---------------------------------------------------------------------------\u001b[0m",
      "\u001b[1;31mTypeError\u001b[0m                                 Traceback (most recent call last)",
      "\u001b[1;32mc:\\Users\\Hp\\OneDrive\\Documents\\Digipoddium python\\newfile.ipynb Cell 2\u001b[0m in \u001b[0;36m<cell line: 3>\u001b[1;34m()\u001b[0m\n\u001b[0;32m      <a href='vscode-notebook-cell:/c%3A/Users/Hp/OneDrive/Documents/Digipoddium%20python/newfile.ipynb#W1sZmlsZQ%3D%3D?line=1'>2</a>\u001b[0m pattern \u001b[39m=\u001b[39m ()\n\u001b[0;32m      <a href='vscode-notebook-cell:/c%3A/Users/Hp/OneDrive/Documents/Digipoddium%20python/newfile.ipynb#W1sZmlsZQ%3D%3D?line=2'>3</a>\u001b[0m \u001b[39mfor\u001b[39;00m i \u001b[39min\u001b[39;00m \u001b[39mrange\u001b[39m(\u001b[39mlen\u001b[39m(string)):\n\u001b[1;32m----> <a href='vscode-notebook-cell:/c%3A/Users/Hp/OneDrive/Documents/Digipoddium%20python/newfile.ipynb#W1sZmlsZQ%3D%3D?line=3'>4</a>\u001b[0m     pattern \u001b[39m+\u001b[39m\u001b[39m=\u001b[39m string[i] \u001b[39m*\u001b[39m (i \u001b[39m+\u001b[39m \u001b[39m1\u001b[39m)\n\u001b[0;32m      <a href='vscode-notebook-cell:/c%3A/Users/Hp/OneDrive/Documents/Digipoddium%20python/newfile.ipynb#W1sZmlsZQ%3D%3D?line=4'>5</a>\u001b[0m     \u001b[39mif\u001b[39;00m i \u001b[39m<\u001b[39m \u001b[39mlen\u001b[39m(string) \u001b[39m-\u001b[39m \u001b[39m1\u001b[39m:\n\u001b[0;32m      <a href='vscode-notebook-cell:/c%3A/Users/Hp/OneDrive/Documents/Digipoddium%20python/newfile.ipynb#W1sZmlsZQ%3D%3D?line=5'>6</a>\u001b[0m         pattern \u001b[39m+\u001b[39m\u001b[39m=\u001b[39m ()\n",
      "\u001b[1;31mTypeError\u001b[0m: can only concatenate tuple (not \"str\") to tuple"
     ]
    }
   ],
   "source": [
    "string = input(\"Enter a string: \")\n",
    "pattern = ()\n",
    "for i in range(len(string)):\n",
    "    pattern += string[i] * (i + 1)\n",
    "    if i < len(string) - 1:\n",
    "        pattern += ()\n",
    "print(pattern)\n"
   ]
  },
  {
   "cell_type": "code",
   "execution_count": null,
   "metadata": {},
   "outputs": [],
   "source": []
  }
 ],
 "metadata": {
  "kernelspec": {
   "display_name": "base",
   "language": "python",
   "name": "python3"
  },
  "language_info": {
   "codemirror_mode": {
    "name": "ipython",
    "version": 3
   },
   "file_extension": ".py",
   "mimetype": "text/x-python",
   "name": "python",
   "nbconvert_exporter": "python",
   "pygments_lexer": "ipython3",
   "version": "3.9.12"
  },
  "orig_nbformat": 4
 },
 "nbformat": 4,
 "nbformat_minor": 2
}
