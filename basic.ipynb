{
 "cells": [
  {
   "cell_type": "code",
   "execution_count": 51,
   "metadata": {},
   "outputs": [
    {
     "name": "stdout",
     "output_type": "stream",
     "text": [
      "<class 'int'> <class 'str'> <class 'str'>\n"
     ]
    }
   ],
   "source": [
    "from sqlite3 import IntegrityError\n",
    "from tkinter.tix import INTEGER\n",
    "\n",
    "\n",
    "name = 'shubhankar singh'\n",
    "age = 20\n",
    "place = 'lucknow'\n",
    "pin = 200000\n",
    "\n",
    "print(type(age),\n",
    " type(name), \n",
    " type(place))"
   ]
  },
  {
   "cell_type": "code",
   "execution_count": 1,
   "metadata": {},
   "outputs": [
    {
     "data": {
      "text/plain": [
       "float"
      ]
     },
     "execution_count": 1,
     "metadata": {},
     "output_type": "execute_result"
    }
   ],
   "source": [
    "a = 1.22\n",
    "type(a)"
   ]
  },
  {
   "cell_type": "code",
   "execution_count": 2,
   "metadata": {},
   "outputs": [
    {
     "name": "stdout",
     "output_type": "stream",
     "text": [
      "aman is a student\n",
      "<class 'str'>\n"
     ]
    }
   ],
   "source": [
    "a = \"aman is a student\"\n",
    "print(a)\n",
    "print(type(a))"
   ]
  },
  {
   "cell_type": "code",
   "execution_count": 12,
   "metadata": {},
   "outputs": [
    {
     "name": "stdout",
     "output_type": "stream",
     "text": [
      "True False\n",
      "<class 'str'> <class 'str'>\n"
     ]
    }
   ],
   "source": [
    "a = \"True\"\n",
    "b = \"False\"\n",
    "print(a , b)\n",
    "print(type(a) , type(b))"
   ]
  },
  {
   "cell_type": "code",
   "execution_count": 17,
   "metadata": {},
   "outputs": [
    {
     "name": "stdout",
     "output_type": "stream",
     "text": [
      "['lily', 'rose', 'lotus', 'tulip']\n",
      "<class 'list'>\n"
     ]
    }
   ],
   "source": [
    "flowers = ['lily', 'rose', 'lotus' , 'tulip']\n",
    "print(flowers)\n",
    "print(type(flowers))"
   ]
  },
  {
   "cell_type": "code",
   "execution_count": 21,
   "metadata": {},
   "outputs": [
    {
     "name": "stdout",
     "output_type": "stream",
     "text": [
      "(1, 2, 3, 4, 5)\n",
      "<class 'tuple'>\n"
     ]
    }
   ],
   "source": [
    "number = (1,2,3,4,5)\n",
    "print(number)\n",
    "print(type(number))"
   ]
  },
  {
   "cell_type": "code",
   "execution_count": 23,
   "metadata": {},
   "outputs": [
    {
     "name": "stdout",
     "output_type": "stream",
     "text": [
      "{2, 4, 6, 8, 10}\n",
      "<class 'set'>\n"
     ]
    }
   ],
   "source": [
    "even = {2,4,6,8,10}\n",
    "print(even)\n",
    "print(type(even))"
   ]
  },
  {
   "cell_type": "code",
   "execution_count": 33,
   "metadata": {},
   "outputs": [
    {
     "name": "stdout",
     "output_type": "stream",
     "text": [
      "{'name': 'shubbu', 'age': 20, 'location': 'lucknow'}\n",
      "<class 'dict'>\n"
     ]
    }
   ],
   "source": [
    "info = {\"name\" : 'shubbu' ,\n",
    "        'age' : 20 ,\n",
    "        'location' : \"lucknow\"}\n",
    "print(info)\n",
    "(print(type(info)))\n"
   ]
  },
  {
   "cell_type": "markdown",
   "metadata": {},
   "source": [
    "#arthmatic operator"
   ]
  },
  {
   "cell_type": "code",
   "execution_count": 38,
   "metadata": {},
   "outputs": [
    {
     "name": "stdout",
     "output_type": "stream",
     "text": [
      "3\n",
      "-1\n",
      "0.5\n",
      "0\n",
      "1\n",
      "1\n"
     ]
    }
   ],
   "source": [
    "a = (1)\n",
    "b = (2)\n",
    "print(a + b)\n",
    "print(a - b)\n",
    "print(a / b)    #  float division\n",
    "print(a // b)   #  integer division\n",
    "print(a % b)    #  raminder\n",
    "print(a ** b)   #  exponential\n"
   ]
  },
  {
   "cell_type": "code",
   "execution_count": 41,
   "metadata": {},
   "outputs": [
    {
     "name": "stdout",
     "output_type": "stream",
     "text": [
      "False\n",
      "True\n",
      "True\n",
      "False\n",
      "True\n",
      "False\n"
     ]
    }
   ],
   "source": [
    "print(a == b)\n",
    "print(a != b )\n",
    "print(a < b )\n",
    "print(a > b )\n",
    "print(a <= b )\n",
    "print(a >= b )"
   ]
  },
  {
   "cell_type": "code",
   "execution_count": 52,
   "metadata": {},
   "outputs": [
    {
     "data": {
      "text/plain": [
       "True"
      ]
     },
     "execution_count": 52,
     "metadata": {},
     "output_type": "execute_result"
    }
   ],
   "source": [
    "a < 3 and  b < 3"
   ]
  },
  {
   "cell_type": "code",
   "execution_count": 54,
   "metadata": {},
   "outputs": [
    {
     "data": {
      "text/plain": [
       "False"
      ]
     },
     "execution_count": 54,
     "metadata": {},
     "output_type": "execute_result"
    }
   ],
   "source": [
    "a > 3 and b > 3"
   ]
  },
  {
   "cell_type": "code",
   "execution_count": 9,
   "metadata": {},
   "outputs": [
    {
     "ename": "NameError",
     "evalue": "name 'a' is not defined",
     "output_type": "error",
     "traceback": [
      "\u001b[1;31m---------------------------------------------------------------------------\u001b[0m",
      "\u001b[1;31mNameError\u001b[0m                                 Traceback (most recent call last)",
      "\u001b[1;32mc:\\Users\\Hp\\Documents\\Digipoddium python\\basic.ipynb Cell 14\u001b[0m in \u001b[0;36m<cell line: 1>\u001b[1;34m()\u001b[0m\n\u001b[1;32m----> <a href='vscode-notebook-cell:/c%3A/Users/Hp/Documents/Digipoddium%20python/basic.ipynb#X16sZmlsZQ%3D%3D?line=0'>1</a>\u001b[0m a \u001b[39m<\u001b[39m \u001b[39m3\u001b[39m  \u001b[39mor\u001b[39;00m b \u001b[39m<\u001b[39m \u001b[39m3\u001b[39m\n",
      "\u001b[1;31mNameError\u001b[0m: name 'a' is not defined"
     ]
    }
   ],
   "source": [
    "a < 3  or b < 3\n"
   ]
  },
  {
   "cell_type": "code",
   "execution_count": 57,
   "metadata": {},
   "outputs": [
    {
     "data": {
      "text/plain": [
       "False"
      ]
     },
     "execution_count": 57,
     "metadata": {},
     "output_type": "execute_result"
    }
   ],
   "source": [
    "a > 3  or b > 3"
   ]
  },
  {
   "cell_type": "code",
   "execution_count": 58,
   "metadata": {},
   "outputs": [
    {
     "data": {
      "text/plain": [
       "False"
      ]
     },
     "execution_count": 58,
     "metadata": {},
     "output_type": "execute_result"
    }
   ],
   "source": [
    "not a < 3"
   ]
  },
  {
   "cell_type": "code",
   "execution_count": 3,
   "metadata": {},
   "outputs": [
    {
     "ename": "TypeError",
     "evalue": "'>' not supported between instances of 'str' and 'int'",
     "output_type": "error",
     "traceback": [
      "\u001b[1;31m---------------------------------------------------------------------------\u001b[0m",
      "\u001b[1;31mTypeError\u001b[0m                                 Traceback (most recent call last)",
      "\u001b[1;32mc:\\Users\\Hp\\Documents\\Digipoddium python\\basic.ipynb Cell 17\u001b[0m in \u001b[0;36m<cell line: 1>\u001b[1;34m()\u001b[0m\n\u001b[1;32m----> <a href='vscode-notebook-cell:/c%3A/Users/Hp/Documents/Digipoddium%20python/basic.ipynb#X22sZmlsZQ%3D%3D?line=0'>1</a>\u001b[0m a \u001b[39m>\u001b[39;49m \u001b[39m3\u001b[39;49m \u001b[39mor\u001b[39;00m b \u001b[39m>\u001b[39m  \u001b[39m3\u001b[39m\n",
      "\u001b[1;31mTypeError\u001b[0m: '>' not supported between instances of 'str' and 'int'"
     ]
    }
   ],
   "source": [
    "a > 3 or b >  3"
   ]
  },
  {
   "cell_type": "code",
   "execution_count": null,
   "metadata": {},
   "outputs": [],
   "source": []
  },
  {
   "cell_type": "code",
   "execution_count": null,
   "metadata": {},
   "outputs": [],
   "source": []
  }
 ],
 "metadata": {
  "kernelspec": {
   "display_name": "Python 3.9.12 ('base')",
   "language": "python",
   "name": "python3"
  },
  "language_info": {
   "codemirror_mode": {
    "name": "ipython",
    "version": 3
   },
   "file_extension": ".py",
   "mimetype": "text/x-python",
   "name": "python",
   "nbconvert_exporter": "python",
   "pygments_lexer": "ipython3",
   "version": "3.9.12"
  },
  "orig_nbformat": 4,
  "vscode": {
   "interpreter": {
    "hash": "9d19b846c981df6691e2bdb59be634a7ebbdaac55797ba17323322a2d3a54045"
   }
  }
 },
 "nbformat": 4,
 "nbformat_minor": 2
}
